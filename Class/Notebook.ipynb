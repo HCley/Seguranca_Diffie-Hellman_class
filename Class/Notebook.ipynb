{
 "cells": [
  {
   "attachments": {},
   "cell_type": "markdown",
   "metadata": {},
   "source": [
    "# Matemática Modular\n"
   ]
  },
  {
   "cell_type": "code",
   "execution_count": null,
   "metadata": {},
   "outputs": [],
   "source": []
  },
  {
   "attachments": {},
   "cell_type": "markdown",
   "metadata": {},
   "source": [
    "# Imports\n"
   ]
  },
  {
   "cell_type": "code",
   "execution_count": 1,
   "metadata": {},
   "outputs": [],
   "source": [
    "import hashlib\n",
    "\n",
    "from Crypto.Util import number\n",
    "from base64 import b64encode, b64decode\n",
    "from Cryptodome.Random import get_random_bytes\n",
    "from Cryptodome.Cipher import AES"
   ]
  },
  {
   "cell_type": "code",
   "execution_count": null,
   "metadata": {},
   "outputs": [],
   "source": [
    "encoding = 'utf-8'\n",
    "\n",
    "sk = ''\n",
    "pk = ''\n",
    "g = ''\n",
    "p = ''\n",
    "m = ''"
   ]
  },
  {
   "attachments": {},
   "cell_type": "markdown",
   "metadata": {},
   "source": [
    "# Primeiro passo"
   ]
  },
  {
   "cell_type": "code",
   "execution_count": 3,
   "metadata": {},
   "outputs": [
    {
     "data": {
      "text/plain": [
       "(167030763938411237445083630386299604864905183265564095664089099126200347051912112160569412698264579128581046528174528856895064059238428841076918894220752177842044435713826039285198886773573688521913119147898652220951299519686773130443080885782966223268358388008280396286792297275477384183350163904836460648361,\n",
       " 108093252116066056494208390429822377003084108096214879042943192438971288699660259944538779168961587716703974203654611567031123323015391332964726393670988082537034623442296888281878178337303448562166771241047717584398969836670957312913054119887041158449273532128629495237793206991159034633290575319904995762059)"
      ]
     },
     "execution_count": 3,
     "metadata": {},
     "output_type": "execute_result"
    }
   ],
   "source": [
    "bitSize = 1024\n",
    "p = number.getPrime(bitSize)\n",
    "g = number.getPrime(bitSize)\n",
    "\n",
    "p, g"
   ]
  },
  {
   "attachments": {},
   "cell_type": "markdown",
   "metadata": {},
   "source": [
    "# Exchange\n",
    "\n",
    "g^pk mod p"
   ]
  },
  {
   "cell_type": "code",
   "execution_count": null,
   "metadata": {},
   "outputs": [],
   "source": [
    "pk = pow(g, sk, p)"
   ]
  },
  {
   "attachments": {},
   "cell_type": "markdown",
   "metadata": {},
   "source": [
    "# Encrypt"
   ]
  },
  {
   "cell_type": "code",
   "execution_count": null,
   "metadata": {},
   "outputs": [],
   "source": [
    "def encrypt(plain_text, password):\n",
    "    # generate a random salt\n",
    "    salt = get_random_bytes(AES.block_size)\n",
    "\n",
    "    # use the Scrypt KDF to get a private key from the password\n",
    "    private_key = hashlib.scrypt(\n",
    "        password.encode(), salt=salt, n=2**14, r=8, p=1, dklen=32)\n",
    "\n",
    "    # create cipher config\n",
    "    cipher_config = AES.new(private_key, AES.MODE_GCM)\n",
    "\n",
    "    # return a dictionary with the encrypted text\n",
    "    cipher_text, tag = cipher_config.encrypt_and_digest(\n",
    "        bytes(plain_text, 'utf-8'))\n",
    "    return {\n",
    "        'cipher_text': b64encode(cipher_text).decode('utf-8'),\n",
    "        'salt': b64encode(salt).decode('utf-8'),\n",
    "        'nonce': b64encode(cipher_config.nonce).decode('utf-8'),\n",
    "        'tag': b64encode(tag).decode('utf-8')\n",
    "    }"
   ]
  },
  {
   "attachments": {},
   "cell_type": "markdown",
   "metadata": {},
   "source": [
    "# Decrypt\n"
   ]
  },
  {
   "cell_type": "code",
   "execution_count": null,
   "metadata": {},
   "outputs": [],
   "source": [
    "def decrypt(data, password):\n",
    "    # decode the dictionary entries from base64\n",
    "\n",
    "    salt = b64decode(data['salt'])\n",
    "    cipher_text = b64decode(data['cipher_text'])\n",
    "    nonce = b64decode(data['nonce'])\n",
    "    tag = b64decode(data['tag'])\n",
    "\n",
    "    # generate the private key from the password and salt\n",
    "    private_key = hashlib.scrypt(\n",
    "        password.encode(), salt=salt, n=2**14, r=8, p=1, dklen=32)\n",
    "\n",
    "    # create the cipher config\n",
    "    cipher = AES.new(private_key, AES.MODE_GCM, nonce=nonce)\n",
    "\n",
    "    # decrypt the cipher text\n",
    "    decrypted = cipher.decrypt_and_verify(cipher_text, tag)\n",
    "\n",
    "    return decrypted"
   ]
  }
 ],
 "metadata": {
  "kernelspec": {
   "display_name": "Python 3",
   "language": "python",
   "name": "python3"
  },
  "language_info": {
   "codemirror_mode": {
    "name": "ipython",
    "version": 3
   },
   "file_extension": ".py",
   "mimetype": "text/x-python",
   "name": "python",
   "nbconvert_exporter": "python",
   "pygments_lexer": "ipython3",
   "version": "3.11.2"
  },
  "orig_nbformat": 4
 },
 "nbformat": 4,
 "nbformat_minor": 2
}
